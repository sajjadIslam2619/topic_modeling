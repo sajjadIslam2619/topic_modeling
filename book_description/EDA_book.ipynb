{
 "cells": [
  {
   "cell_type": "markdown",
   "metadata": {},
   "source": [
    "Datasource: https://www.kaggle.com/datasets/elvinrustam/books-dataset"
   ]
  },
  {
   "cell_type": "code",
   "execution_count": 11,
   "metadata": {},
   "outputs": [
    {
     "name": "stderr",
     "output_type": "stream",
     "text": [
      "[nltk_data] Downloading package punkt to\n",
      "[nltk_data]     /Users/sajjadislam/nltk_data...\n",
      "[nltk_data]   Package punkt is already up-to-date!\n",
      "[nltk_data] Downloading package stopwords to\n",
      "[nltk_data]     /Users/sajjadislam/nltk_data...\n",
      "[nltk_data]   Package stopwords is already up-to-date!\n"
     ]
    },
    {
     "data": {
      "text/plain": [
       "True"
      ]
     },
     "execution_count": 11,
     "metadata": {},
     "output_type": "execute_result"
    }
   ],
   "source": [
    "import pandas as pd\n",
    "import pandas as pd\n",
    "from nltk.corpus import stopwords\n",
    "from nltk.tokenize import word_tokenize\n",
    "import nltk\n",
    "\n",
    "# Download NLTK data (run this once)\n",
    "nltk.download('punkt')\n",
    "nltk.download('stopwords')"
   ]
  },
  {
   "cell_type": "code",
   "execution_count": 14,
   "metadata": {},
   "outputs": [
    {
     "data": {
      "text/html": [
       "<div>\n",
       "<style scoped>\n",
       "    .dataframe tbody tr th:only-of-type {\n",
       "        vertical-align: middle;\n",
       "    }\n",
       "\n",
       "    .dataframe tbody tr th {\n",
       "        vertical-align: top;\n",
       "    }\n",
       "\n",
       "    .dataframe thead th {\n",
       "        text-align: right;\n",
       "    }\n",
       "</style>\n",
       "<table border=\"1\" class=\"dataframe\">\n",
       "  <thead>\n",
       "    <tr style=\"text-align: right;\">\n",
       "      <th></th>\n",
       "      <th>Title</th>\n",
       "      <th>Authors</th>\n",
       "      <th>Description</th>\n",
       "      <th>Category</th>\n",
       "      <th>Publisher</th>\n",
       "      <th>Publish Date</th>\n",
       "      <th>Price</th>\n",
       "    </tr>\n",
       "  </thead>\n",
       "  <tbody>\n",
       "    <tr>\n",
       "      <th>97098</th>\n",
       "      <td>The Origin of Species (Barnes &amp; Noble Classics...</td>\n",
       "      <td>By Darwin, Charles and Levine, George (INT)</td>\n",
       "      <td>&amp;&amp;LDIV&amp;&amp;R&amp;&amp;LDIV&amp;&amp;R&amp;&amp;LI&amp;&amp;RThe Origin of Species...</td>\n",
       "      <td>Science , Life Sciences , Evolution</td>\n",
       "      <td>Sterling Publishing</td>\n",
       "      <td>Monday, December 1, 2003</td>\n",
       "      <td>Price Starting at $5.29</td>\n",
       "    </tr>\n",
       "    <tr>\n",
       "      <th>990</th>\n",
       "      <td>Tabloid Dreams: Stories</td>\n",
       "      <td>By Butler, Robert Olen</td>\n",
       "      <td>In his first collection since the Pulitzer Pri...</td>\n",
       "      <td>Fiction , General</td>\n",
       "      <td>Henry Holt &amp; Co</td>\n",
       "      <td>Tuesday, October 1, 1996</td>\n",
       "      <td>Price Starting at $5.29</td>\n",
       "    </tr>\n",
       "    <tr>\n",
       "      <th>60887</th>\n",
       "      <td>Diabetes For Dummies</td>\n",
       "      <td>By Rubin, Alan L.</td>\n",
       "      <td>Diabetes affects millions of Americans each ye...</td>\n",
       "      <td>Health &amp; Fitness , Diseases , Diabetes</td>\n",
       "      <td>For Dummies</td>\n",
       "      <td>Sunday, August 1, 2004</td>\n",
       "      <td>Price Starting at $5.47</td>\n",
       "    </tr>\n",
       "    <tr>\n",
       "      <th>9166</th>\n",
       "      <td>The Funnies: A Novel</td>\n",
       "      <td>By Lennon, J. Robert</td>\n",
       "      <td>The Mix family, a motley crew of troubled soul...</td>\n",
       "      <td>Fiction , Sagas</td>\n",
       "      <td>Riverhead Trade</td>\n",
       "      <td>Tuesday, February 1, 2000</td>\n",
       "      <td>Price Starting at $4.99</td>\n",
       "    </tr>\n",
       "    <tr>\n",
       "      <th>74335</th>\n",
       "      <td>Half Life</td>\n",
       "      <td>By Clement, Hal</td>\n",
       "      <td>In about two hundred years, the human race on ...</td>\n",
       "      <td>Fiction , Science Fiction , General</td>\n",
       "      <td>Tor Science Fiction</td>\n",
       "      <td>Thursday, June 1, 2000</td>\n",
       "      <td>Price Starting at $5.29</td>\n",
       "    </tr>\n",
       "  </tbody>\n",
       "</table>\n",
       "</div>"
      ],
      "text/plain": [
       "                                                   Title  \\\n",
       "97098  The Origin of Species (Barnes & Noble Classics...   \n",
       "990                              Tabloid Dreams: Stories   \n",
       "60887                               Diabetes For Dummies   \n",
       "9166                                The Funnies: A Novel   \n",
       "74335                                          Half Life   \n",
       "\n",
       "                                           Authors  \\\n",
       "97098  By Darwin, Charles and Levine, George (INT)   \n",
       "990                         By Butler, Robert Olen   \n",
       "60887                            By Rubin, Alan L.   \n",
       "9166                          By Lennon, J. Robert   \n",
       "74335                              By Clement, Hal   \n",
       "\n",
       "                                             Description  \\\n",
       "97098  &&LDIV&&R&&LDIV&&R&&LI&&RThe Origin of Species...   \n",
       "990    In his first collection since the Pulitzer Pri...   \n",
       "60887  Diabetes affects millions of Americans each ye...   \n",
       "9166   The Mix family, a motley crew of troubled soul...   \n",
       "74335  In about two hundred years, the human race on ...   \n",
       "\n",
       "                                      Category            Publisher  \\\n",
       "97098      Science , Life Sciences , Evolution  Sterling Publishing   \n",
       "990                          Fiction , General      Henry Holt & Co   \n",
       "60887   Health & Fitness , Diseases , Diabetes          For Dummies   \n",
       "9166                           Fiction , Sagas      Riverhead Trade   \n",
       "74335      Fiction , Science Fiction , General  Tor Science Fiction   \n",
       "\n",
       "                    Publish Date                    Price  \n",
       "97098   Monday, December 1, 2003  Price Starting at $5.29  \n",
       "990     Tuesday, October 1, 1996  Price Starting at $5.29  \n",
       "60887     Sunday, August 1, 2004  Price Starting at $5.47  \n",
       "9166   Tuesday, February 1, 2000  Price Starting at $4.99  \n",
       "74335     Thursday, June 1, 2000  Price Starting at $5.29  "
      ]
     },
     "execution_count": 14,
     "metadata": {},
     "output_type": "execute_result"
    }
   ],
   "source": [
    "df = pd.read_csv('../Data/BooksDataset.csv')\n",
    "df.sample(5)"
   ]
  },
  {
   "cell_type": "code",
   "execution_count": 4,
   "metadata": {},
   "outputs": [],
   "source": [
    "df.dropna(subset=['Description'], inplace=True)\n",
    "df.dropna(subset=['Category'], inplace=True)"
   ]
  },
  {
   "cell_type": "code",
   "execution_count": 8,
   "metadata": {},
   "outputs": [
    {
     "name": "stdout",
     "output_type": "stream",
     "text": [
      "Word Count Statistics for 'Description':\n",
      "Lowest number of words: 1\n",
      "Highest number of words: 3400\n",
      "Median number of words: 101.0\n",
      "\n"
     ]
    }
   ],
   "source": [
    "# Count the number of words in the 'Description' column\n",
    "df[\"Word Count\"] = df[\"Description\"].apply(lambda x: len(str(x).split()))\n",
    "\n",
    "# Calculate minimum, maximum, and median word counts\n",
    "min_words = df[\"Word Count\"].min()\n",
    "max_words = df[\"Word Count\"].max()\n",
    "median_words = df[\"Word Count\"].median()\n",
    "\n",
    "print(\"Word Count Statistics for 'Description':\")\n",
    "print(f\"Lowest number of words: {min_words}\")\n",
    "print(f\"Highest number of words: {max_words}\")\n",
    "print(f\"Median number of words: {median_words}\\n\")"
   ]
  },
  {
   "cell_type": "code",
   "execution_count": 10,
   "metadata": {},
   "outputs": [
    {
     "name": "stdout",
     "output_type": "stream",
     "text": [
      "Word Count Statistics (After Removing Stop Words):\n",
      "Lowest number of words: 0\n",
      "Highest number of words: 2610\n",
      "Median number of words: 74.0\n",
      "\n"
     ]
    }
   ],
   "source": [
    "# Define stop words\n",
    "stop_words = set(stopwords.words('english'))\n",
    "\n",
    "# Function to remove stop words and count words\n",
    "def clean_and_count_words(text):\n",
    "    words = word_tokenize(text)  # Tokenize the text\n",
    "    filtered_words = [word for word in words if word.lower() not in stop_words]  # Remove stop words\n",
    "    return len(filtered_words)  # Return the count of non-stop words\n",
    "\n",
    "# Apply the function to the 'Description' column\n",
    "df[\"Filtered Word Count\"] = df[\"Description\"].apply(clean_and_count_words)\n",
    "\n",
    "# Calculate minimum, maximum, and median word counts\n",
    "min_words = df[\"Filtered Word Count\"].min()\n",
    "max_words = df[\"Filtered Word Count\"].max()\n",
    "median_words = df[\"Filtered Word Count\"].median()\n",
    "\n",
    "print(\"Word Count Statistics (After Removing Stop Words):\")\n",
    "print(f\"Lowest number of words: {min_words}\")\n",
    "print(f\"Highest number of words: {max_words}\")\n",
    "print(f\"Median number of words: {median_words}\\n\")"
   ]
  },
  {
   "cell_type": "code",
   "execution_count": 9,
   "metadata": {},
   "outputs": [
    {
     "name": "stdout",
     "output_type": "stream",
     "text": [
      "Unique Categories and Their Count:\n",
      "Number of unique categories: 2983\n",
      "[' Poetry , General' ' Biography & Autobiography , General'\n",
      " ' Health & Fitness , Diet & Nutrition , Diets' ...\n",
      " ' Young Adult Fiction , Performing Arts , Music'\n",
      " ' Computers , Mathematical & Statistical Software'\n",
      " ' Young Adult Nonfiction , Biography & Autobiography , Science & Technology']\n"
     ]
    }
   ],
   "source": [
    "# Analyze unique categories\n",
    "unique_categories = df[\"Category\"].dropna().unique()\n",
    "num_categories = len(unique_categories)\n",
    "\n",
    "print(\"Unique Categories and Their Count:\")\n",
    "print(f\"Number of unique categories: {num_categories}\")\n",
    "print(unique_categories)"
   ]
  }
 ],
 "metadata": {
  "kernelspec": {
   "display_name": "py312_topic_modeling",
   "language": "python",
   "name": "python3"
  },
  "language_info": {
   "codemirror_mode": {
    "name": "ipython",
    "version": 3
   },
   "file_extension": ".py",
   "mimetype": "text/x-python",
   "name": "python",
   "nbconvert_exporter": "python",
   "pygments_lexer": "ipython3",
   "version": "3.12.8"
  }
 },
 "nbformat": 4,
 "nbformat_minor": 2
}
