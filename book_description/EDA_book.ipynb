{
 "cells": [
  {
   "cell_type": "markdown",
   "metadata": {},
   "source": [
    "Datasource: https://www.kaggle.com/datasets/elvinrustam/books-dataset"
   ]
  },
  {
   "cell_type": "code",
   "execution_count": 1,
   "metadata": {},
   "outputs": [
    {
     "name": "stderr",
     "output_type": "stream",
     "text": [
      "[nltk_data] Downloading package punkt to\n",
      "[nltk_data]     /Users/sajjadislam/nltk_data...\n",
      "[nltk_data]   Package punkt is already up-to-date!\n",
      "[nltk_data] Downloading package stopwords to\n",
      "[nltk_data]     /Users/sajjadislam/nltk_data...\n",
      "[nltk_data]   Package stopwords is already up-to-date!\n"
     ]
    },
    {
     "data": {
      "text/plain": [
       "True"
      ]
     },
     "execution_count": 1,
     "metadata": {},
     "output_type": "execute_result"
    }
   ],
   "source": [
    "import pandas as pd\n",
    "import pandas as pd\n",
    "from nltk.corpus import stopwords\n",
    "from nltk.tokenize import word_tokenize\n",
    "import nltk\n",
    "\n",
    "# Download NLTK data (run this once)\n",
    "nltk.download('punkt')\n",
    "nltk.download('stopwords')"
   ]
  },
  {
   "cell_type": "code",
   "execution_count": 26,
   "metadata": {},
   "outputs": [
    {
     "data": {
      "text/html": [
       "<div>\n",
       "<style scoped>\n",
       "    .dataframe tbody tr th:only-of-type {\n",
       "        vertical-align: middle;\n",
       "    }\n",
       "\n",
       "    .dataframe tbody tr th {\n",
       "        vertical-align: top;\n",
       "    }\n",
       "\n",
       "    .dataframe thead th {\n",
       "        text-align: right;\n",
       "    }\n",
       "</style>\n",
       "<table border=\"1\" class=\"dataframe\">\n",
       "  <thead>\n",
       "    <tr style=\"text-align: right;\">\n",
       "      <th></th>\n",
       "      <th>Title</th>\n",
       "      <th>Authors</th>\n",
       "      <th>Description</th>\n",
       "      <th>Category</th>\n",
       "      <th>Publisher</th>\n",
       "      <th>Publish Date</th>\n",
       "      <th>Price</th>\n",
       "    </tr>\n",
       "  </thead>\n",
       "  <tbody>\n",
       "    <tr>\n",
       "      <th>11789</th>\n",
       "      <td>Management Accounting (3rd Edition)</td>\n",
       "      <td>By Kaplan, Robert S., Atkinson, Anthony A. (ED...</td>\n",
       "      <td>Unique in approach, this book provides a balan...</td>\n",
       "      <td>Business &amp; Economics , Accounting , Managerial</td>\n",
       "      <td>Pearson Education</td>\n",
       "      <td>Sunday, October 1, 2000</td>\n",
       "      <td>Price Starting at $10.99</td>\n",
       "    </tr>\n",
       "    <tr>\n",
       "      <th>95831</th>\n",
       "      <td>Dragon Lady: The Life and Legend of the Last E...</td>\n",
       "      <td>By Seagrave, Sterling and Seagrave, Peggy</td>\n",
       "      <td>The author of The Soong Dynasty gives us our m...</td>\n",
       "      <td>Biography &amp; Autobiography , Royalty</td>\n",
       "      <td>Vintage</td>\n",
       "      <td>Sunday, August 1, 1993</td>\n",
       "      <td>Price Starting at $5.29</td>\n",
       "    </tr>\n",
       "    <tr>\n",
       "      <th>85124</th>\n",
       "      <td>Cooking with the Pennsylvania \"Dutch\": A colle...</td>\n",
       "      <td>By Aurand, A. Monroe</td>\n",
       "      <td>NaN</td>\n",
       "      <td>NaN</td>\n",
       "      <td>Aurand Press</td>\n",
       "      <td>Tuesday, January 1, 1946</td>\n",
       "      <td>Price Starting at $5.29</td>\n",
       "    </tr>\n",
       "    <tr>\n",
       "      <th>40532</th>\n",
       "      <td>The Life of Jesus (Lap Library)</td>\n",
       "      <td>By Makhasvili, Dimitri (ILT) and Makhashvili, ...</td>\n",
       "      <td>The Life of Jesus is a classic compilation of ...</td>\n",
       "      <td>Juvenile Nonfiction , Religion , Bible Storie...</td>\n",
       "      <td>Random House Books for Young Readers</td>\n",
       "      <td>Friday, February 1, 2002</td>\n",
       "      <td>Price Starting at $4.99</td>\n",
       "    </tr>\n",
       "    <tr>\n",
       "      <th>101224</th>\n",
       "      <td>Why Forgive</td>\n",
       "      <td>By Arnold, Johann Christoph and Chalke, Steve ...</td>\n",
       "      <td>NaN</td>\n",
       "      <td>Religion , Inspirational</td>\n",
       "      <td>Orbis Books</td>\n",
       "      <td>Wednesday, June 1, 2005</td>\n",
       "      <td>Price Starting at $5.29</td>\n",
       "    </tr>\n",
       "  </tbody>\n",
       "</table>\n",
       "</div>"
      ],
      "text/plain": [
       "                                                    Title  \\\n",
       "11789                 Management Accounting (3rd Edition)   \n",
       "95831   Dragon Lady: The Life and Legend of the Last E...   \n",
       "85124   Cooking with the Pennsylvania \"Dutch\": A colle...   \n",
       "40532                     The Life of Jesus (Lap Library)   \n",
       "101224                                        Why Forgive   \n",
       "\n",
       "                                                  Authors  \\\n",
       "11789   By Kaplan, Robert S., Atkinson, Anthony A. (ED...   \n",
       "95831           By Seagrave, Sterling and Seagrave, Peggy   \n",
       "85124                                By Aurand, A. Monroe   \n",
       "40532   By Makhasvili, Dimitri (ILT) and Makhashvili, ...   \n",
       "101224  By Arnold, Johann Christoph and Chalke, Steve ...   \n",
       "\n",
       "                                              Description  \\\n",
       "11789   Unique in approach, this book provides a balan...   \n",
       "95831   The author of The Soong Dynasty gives us our m...   \n",
       "85124                                                 NaN   \n",
       "40532   The Life of Jesus is a classic compilation of ...   \n",
       "101224                                                NaN   \n",
       "\n",
       "                                                 Category  \\\n",
       "11789      Business & Economics , Accounting , Managerial   \n",
       "95831                 Biography & Autobiography , Royalty   \n",
       "85124                                                 NaN   \n",
       "40532    Juvenile Nonfiction , Religion , Bible Storie...   \n",
       "101224                           Religion , Inspirational   \n",
       "\n",
       "                                   Publisher              Publish Date  \\\n",
       "11789                      Pearson Education   Sunday, October 1, 2000   \n",
       "95831                                Vintage    Sunday, August 1, 1993   \n",
       "85124                           Aurand Press  Tuesday, January 1, 1946   \n",
       "40532   Random House Books for Young Readers  Friday, February 1, 2002   \n",
       "101224                           Orbis Books   Wednesday, June 1, 2005   \n",
       "\n",
       "                           Price  \n",
       "11789   Price Starting at $10.99  \n",
       "95831    Price Starting at $5.29  \n",
       "85124    Price Starting at $5.29  \n",
       "40532    Price Starting at $4.99  \n",
       "101224   Price Starting at $5.29  "
      ]
     },
     "execution_count": 26,
     "metadata": {},
     "output_type": "execute_result"
    }
   ],
   "source": [
    "df = pd.read_csv('../Data/BooksDataset.csv')\n",
    "df.sample(5)"
   ]
  },
  {
   "cell_type": "code",
   "execution_count": 27,
   "metadata": {},
   "outputs": [],
   "source": [
    "df.dropna(subset=['Description'], inplace=True)\n",
    "df.dropna(subset=['Category'], inplace=True)"
   ]
  },
  {
   "cell_type": "code",
   "execution_count": 22,
   "metadata": {},
   "outputs": [
    {
     "name": "stdout",
     "output_type": "stream",
     "text": [
      "Word Count Statistics for 'Description':\n",
      "DF shape: (65305, 8)\n",
      "Lowest number of words: 1\n",
      "Highest number of words: 3400\n",
      "Median number of words: 101.0\n",
      "\n",
      "Word Count Statistics for 'Description':\n",
      "DF shape: (43363, 8)\n",
      "Lowest number of words: 50\n",
      "Highest number of words: 3400\n",
      "Median number of words: 149.0\n",
      "\n",
      "Word Count Statistics for 'Description':\n",
      "DF shape: (42128, 8)\n",
      "Lowest number of words: 50\n",
      "Highest number of words: 399\n",
      "Median number of words: 146.0\n",
      "\n"
     ]
    }
   ],
   "source": [
    "# Count the number of words in the 'Description' column\n",
    "df[\"Word Count\"] = df[\"Description\"].apply(lambda x: len(str(x).split()))\n",
    "\n",
    "# Calculate minimum, maximum, and median word counts\n",
    "min_words = df[\"Word Count\"].min()\n",
    "max_words = df[\"Word Count\"].max()\n",
    "median_words = df[\"Word Count\"].median()\n",
    "\n",
    "print(\"Word Count Statistics for 'Description':\")\n",
    "print(f\"DF shape: {df.shape}\")\n",
    "print(f\"Lowest number of words: {min_words}\")\n",
    "print(f\"Highest number of words: {max_words}\")\n",
    "print(f\"Median number of words: {median_words}\\n\")\n",
    "\n",
    "df = df[df[\"Word Count\"] >= 50]\n",
    "\n",
    "# Calculate minimum, maximum, and median word counts\n",
    "min_words = df[\"Word Count\"].min()\n",
    "max_words = df[\"Word Count\"].max()\n",
    "median_words = df[\"Word Count\"].median()\n",
    "\n",
    "print(\"Word Count Statistics for 'Description':\")\n",
    "print(f\"DF shape: {df.shape}\")\n",
    "print(f\"Lowest number of words: {min_words}\")\n",
    "print(f\"Highest number of words: {max_words}\")\n",
    "print(f\"Median number of words: {median_words}\\n\")\n",
    "\n",
    "# Filter the DataFrame to include only rows where word count > 400\n",
    "df = df[df[\"Word Count\"] < 400]\n",
    "\n",
    "# Calculate statistics after filtering for rows with word count > 400\n",
    "min_words = df[\"Word Count\"].min()\n",
    "max_words = df[\"Word Count\"].max()\n",
    "median_words = df[\"Word Count\"].median()\n",
    "\n",
    "print(\"Word Count Statistics for 'Description':\")\n",
    "print(f\"DF shape: {df.shape}\")\n",
    "print(f\"Lowest number of words: {min_words}\")\n",
    "print(f\"Highest number of words: {max_words}\")\n",
    "print(f\"Median number of words: {median_words}\\n\")"
   ]
  },
  {
   "cell_type": "code",
   "execution_count": 25,
   "metadata": {},
   "outputs": [
    {
     "name": "stdout",
     "output_type": "stream",
     "text": [
      "First Quartile (Q1): 37.0\n",
      "Third Quartile (Q3): 176.0\n",
      "\n",
      "Word Count Statistics for 'Description' (After Removing Q1 and Q4):\n",
      "DF shape: (32292, 8)\n",
      "Lowest number of words: 38\n",
      "Highest number of words: 175\n",
      "Median number of words: 101.0\n",
      "\n"
     ]
    }
   ],
   "source": [
    "# Count the number of words in the 'Description' column\n",
    "df[\"Word Count\"] = df[\"Description\"].apply(lambda x: len(str(x).split()))\n",
    "\n",
    "# Calculate the 25th percentile (Q1) and 75th percentile (Q3)\n",
    "q1 = df[\"Word Count\"].quantile(0.25)\n",
    "q3 = df[\"Word Count\"].quantile(0.75)\n",
    "\n",
    "print(f\"First Quartile (Q1): {q1}\")\n",
    "print(f\"Third Quartile (Q3): {q3}\\n\")\n",
    "\n",
    "# Filter the DataFrame to keep only rows between Q1 and Q3\n",
    "df_filtered = df[(df[\"Word Count\"] > q1) & (df[\"Word Count\"] < q3)]\n",
    "\n",
    "# Calculate statistics after filtering\n",
    "min_words = df_filtered[\"Word Count\"].min()\n",
    "max_words = df_filtered[\"Word Count\"].max()\n",
    "median_words = df_filtered[\"Word Count\"].median()\n",
    "\n",
    "print(\"Word Count Statistics for 'Description' (After Removing Q1 and Q4):\")\n",
    "print(f\"DF shape: {df_filtered.shape}\")\n",
    "print(f\"Lowest number of words: {min_words}\")\n",
    "print(f\"Highest number of words: {max_words}\")\n",
    "print(f\"Median number of words: {median_words}\\n\")\n"
   ]
  },
  {
   "cell_type": "code",
   "execution_count": 28,
   "metadata": {},
   "outputs": [
    {
     "name": "stdout",
     "output_type": "stream",
     "text": [
      "10th Percentile (P10): 23.0\n",
      "90th Percentile (P90): 258.0\n",
      "\n",
      "Word Count Statistics for 'Description' (After Removing Lowest and Highest 10%):\n",
      "DF shape: (52071, 8)\n",
      "Lowest number of words: 24\n",
      "Highest number of words: 257\n",
      "Median number of words: 101.0\n",
      "\n"
     ]
    }
   ],
   "source": [
    "# Count the number of words in the 'Description' column\n",
    "df[\"Word Count\"] = df[\"Description\"].apply(lambda x: len(str(x).split()))\n",
    "\n",
    "# Calculate the 10th percentile and 90th percentile\n",
    "p10 = df[\"Word Count\"].quantile(0.10)\n",
    "p90 = df[\"Word Count\"].quantile(0.90)\n",
    "\n",
    "print(f\"10th Percentile (P10): {p10}\")\n",
    "print(f\"90th Percentile (P90): {p90}\\n\")\n",
    "\n",
    "# Filter the DataFrame to keep only rows between the 10th and 90th percentiles\n",
    "df_filtered = df[(df[\"Word Count\"] > p10) & (df[\"Word Count\"] < p90)]\n",
    "\n",
    "# Calculate statistics after filtering\n",
    "min_words = df_filtered[\"Word Count\"].min()\n",
    "max_words = df_filtered[\"Word Count\"].max()\n",
    "median_words = df_filtered[\"Word Count\"].median()\n",
    "\n",
    "print(\"Word Count Statistics for 'Description' (After Removing Lowest and Highest 10%):\")\n",
    "print(f\"DF shape: {df_filtered.shape}\")\n",
    "print(f\"Lowest number of words: {min_words}\")\n",
    "print(f\"Highest number of words: {max_words}\")\n",
    "print(f\"Median number of words: {median_words}\\n\")\n"
   ]
  },
  {
   "cell_type": "code",
   "execution_count": 10,
   "metadata": {},
   "outputs": [
    {
     "name": "stdout",
     "output_type": "stream",
     "text": [
      "Word Count Statistics (After Removing Stop Words):\n",
      "Lowest number of words: 0\n",
      "Highest number of words: 2610\n",
      "Median number of words: 74.0\n",
      "\n"
     ]
    }
   ],
   "source": [
    "# Define stop words\n",
    "stop_words = set(stopwords.words('english'))\n",
    "\n",
    "# Function to remove stop words and count words\n",
    "def clean_and_count_words(text):\n",
    "    words = word_tokenize(text)  # Tokenize the text\n",
    "    filtered_words = [word for word in words if word.lower() not in stop_words]  # Remove stop words\n",
    "    return len(filtered_words)  # Return the count of non-stop words\n",
    "\n",
    "# Apply the function to the 'Description' column\n",
    "df[\"Filtered Word Count\"] = df[\"Description\"].apply(clean_and_count_words)\n",
    "\n",
    "# Calculate minimum, maximum, and median word counts\n",
    "min_words = df[\"Filtered Word Count\"].min()\n",
    "max_words = df[\"Filtered Word Count\"].max()\n",
    "median_words = df[\"Filtered Word Count\"].median()\n",
    "\n",
    "print(\"Word Count Statistics (After Removing Stop Words):\")\n",
    "print(f\"Lowest number of words: {min_words}\")\n",
    "print(f\"Highest number of words: {max_words}\")\n",
    "print(f\"Median number of words: {median_words}\\n\")"
   ]
  },
  {
   "cell_type": "code",
   "execution_count": 9,
   "metadata": {},
   "outputs": [
    {
     "name": "stdout",
     "output_type": "stream",
     "text": [
      "Unique Categories and Their Count:\n",
      "Number of unique categories: 2983\n",
      "[' Poetry , General' ' Biography & Autobiography , General'\n",
      " ' Health & Fitness , Diet & Nutrition , Diets' ...\n",
      " ' Young Adult Fiction , Performing Arts , Music'\n",
      " ' Computers , Mathematical & Statistical Software'\n",
      " ' Young Adult Nonfiction , Biography & Autobiography , Science & Technology']\n"
     ]
    }
   ],
   "source": [
    "# Analyze unique categories\n",
    "unique_categories = df[\"Category\"].dropna().unique()\n",
    "num_categories = len(unique_categories)\n",
    "\n",
    "print(\"Unique Categories and Their Count:\")\n",
    "print(f\"Number of unique categories: {num_categories}\")\n",
    "print(unique_categories)"
   ]
  }
 ],
 "metadata": {
  "kernelspec": {
   "display_name": "py312_topic_modeling",
   "language": "python",
   "name": "python3"
  },
  "language_info": {
   "codemirror_mode": {
    "name": "ipython",
    "version": 3
   },
   "file_extension": ".py",
   "mimetype": "text/x-python",
   "name": "python",
   "nbconvert_exporter": "python",
   "pygments_lexer": "ipython3",
   "version": "3.12.8"
  }
 },
 "nbformat": 4,
 "nbformat_minor": 2
}
