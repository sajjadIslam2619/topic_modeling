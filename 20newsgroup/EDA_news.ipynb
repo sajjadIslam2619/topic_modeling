{
 "cells": [
  {
   "cell_type": "code",
   "execution_count": 2,
   "metadata": {},
   "outputs": [
    {
     "name": "stdout",
     "output_type": "stream",
     "text": [
      "Collecting matplotlib\n",
      "  Downloading matplotlib-3.10.0-cp312-cp312-macosx_10_13_x86_64.whl.metadata (11 kB)\n",
      "Collecting contourpy>=1.0.1 (from matplotlib)\n",
      "  Downloading contourpy-1.3.1-cp312-cp312-macosx_10_13_x86_64.whl.metadata (5.4 kB)\n",
      "Collecting cycler>=0.10 (from matplotlib)\n",
      "  Using cached cycler-0.12.1-py3-none-any.whl.metadata (3.8 kB)\n",
      "Collecting fonttools>=4.22.0 (from matplotlib)\n",
      "  Downloading fonttools-4.55.3-cp312-cp312-macosx_10_13_x86_64.whl.metadata (165 kB)\n",
      "Collecting kiwisolver>=1.3.1 (from matplotlib)\n",
      "  Downloading kiwisolver-1.4.8-cp312-cp312-macosx_10_13_x86_64.whl.metadata (6.2 kB)\n",
      "Requirement already satisfied: numpy>=1.23 in /Users/sajjadislam/opt/anaconda3/envs/py312_topic_modeling/lib/python3.12/site-packages (from matplotlib) (1.26.4)\n",
      "Requirement already satisfied: packaging>=20.0 in /Users/sajjadislam/opt/anaconda3/envs/py312_topic_modeling/lib/python3.12/site-packages (from matplotlib) (24.2)\n",
      "Collecting pillow>=8 (from matplotlib)\n",
      "  Downloading pillow-11.1.0-cp312-cp312-macosx_10_13_x86_64.whl.metadata (9.1 kB)\n",
      "Requirement already satisfied: pyparsing>=2.3.1 in /Users/sajjadislam/opt/anaconda3/envs/py312_topic_modeling/lib/python3.12/site-packages (from matplotlib) (3.2.1)\n",
      "Requirement already satisfied: python-dateutil>=2.7 in /Users/sajjadislam/opt/anaconda3/envs/py312_topic_modeling/lib/python3.12/site-packages (from matplotlib) (2.9.0.post0)\n",
      "Requirement already satisfied: six>=1.5 in /Users/sajjadislam/opt/anaconda3/envs/py312_topic_modeling/lib/python3.12/site-packages (from python-dateutil>=2.7->matplotlib) (1.17.0)\n",
      "Downloading matplotlib-3.10.0-cp312-cp312-macosx_10_13_x86_64.whl (8.2 MB)\n",
      "\u001b[2K   \u001b[90m━━━━━━━━━━━━━━━━━━━━━━━━━━━━━━━━━━━━━━━━\u001b[0m \u001b[32m8.2/8.2 MB\u001b[0m \u001b[31m46.9 MB/s\u001b[0m eta \u001b[36m0:00:00\u001b[0m\n",
      "\u001b[?25hDownloading contourpy-1.3.1-cp312-cp312-macosx_10_13_x86_64.whl (271 kB)\n",
      "Using cached cycler-0.12.1-py3-none-any.whl (8.3 kB)\n",
      "Downloading fonttools-4.55.3-cp312-cp312-macosx_10_13_x86_64.whl (2.3 MB)\n",
      "\u001b[2K   \u001b[90m━━━━━━━━━━━━━━━━━━━━━━━━━━━━━━━━━━━━━━━━\u001b[0m \u001b[32m2.3/2.3 MB\u001b[0m \u001b[31m47.6 MB/s\u001b[0m eta \u001b[36m0:00:00\u001b[0m\n",
      "\u001b[?25hDownloading kiwisolver-1.4.8-cp312-cp312-macosx_10_13_x86_64.whl (66 kB)\n",
      "Downloading pillow-11.1.0-cp312-cp312-macosx_10_13_x86_64.whl (3.2 MB)\n",
      "\u001b[2K   \u001b[90m━━━━━━━━━━━━━━━━━━━━━━━━━━━━━━━━━━━━━━━━\u001b[0m \u001b[32m3.2/3.2 MB\u001b[0m \u001b[31m49.6 MB/s\u001b[0m eta \u001b[36m0:00:00\u001b[0m\n",
      "\u001b[?25hInstalling collected packages: pillow, kiwisolver, fonttools, cycler, contourpy, matplotlib\n",
      "Successfully installed contourpy-1.3.1 cycler-0.12.1 fonttools-4.55.3 kiwisolver-1.4.8 matplotlib-3.10.0 pillow-11.1.0\n",
      "Note: you may need to restart the kernel to use updated packages.\n"
     ]
    }
   ],
   "source": [
    "pip install matplotlib"
   ]
  },
  {
   "cell_type": "code",
   "execution_count": 3,
   "metadata": {},
   "outputs": [
    {
     "name": "stdout",
     "output_type": "stream",
     "text": [
      "Initial size of the dataset: 18846 rows\n",
      "Size after removing null values: 18846 rows\n"
     ]
    }
   ],
   "source": [
    "# Import necessary libraries\n",
    "from sklearn.datasets import fetch_20newsgroups\n",
    "import pandas as pd\n",
    "from sklearn.feature_extraction.text import CountVectorizer, TfidfVectorizer\n",
    "from sklearn.decomposition import LatentDirichletAllocation\n",
    "import matplotlib.pyplot as plt\n",
    "\n",
    "# Step 1: Load the dataset\n",
    "newsgroups = fetch_20newsgroups(subset='all', remove=('headers', 'footers', 'quotes'))\n",
    "\n",
    "# Step 2: Create a DataFrame for better handling\n",
    "data = pd.DataFrame({\n",
    "    'Text': newsgroups.data,\n",
    "    'Category': [newsgroups.target_names[label] for label in newsgroups.target]\n",
    "})\n",
    "print(f\"Initial size of the dataset: {data.shape[0]} rows\")\n",
    "data = data.dropna()  # Remove rows with null values\n",
    "print(f\"Size after removing null values: {data.shape[0]} rows\")\n",
    "\n",
    "data.to_csv('../Data/20NewsGroup.csv', index=False)\n"
   ]
  },
  {
   "cell_type": "code",
   "execution_count": null,
   "metadata": {},
   "outputs": [],
   "source": []
  },
  {
   "cell_type": "code",
   "execution_count": 1,
   "metadata": {},
   "outputs": [],
   "source": [
    "# Take a random sample of 500 rows\n",
    "df_sample = data.sample(n=500, random_state=42)  # random_state ensures reproducibility\n",
    "\n",
    "# Save the sample to a new CSV file in the same directory\n",
    "df_sample.to_csv('../Data/20NewsGroup_500.csv', index=False)\n"
   ]
  },
  {
   "cell_type": "code",
   "execution_count": 2,
   "metadata": {},
   "outputs": [
    {
     "data": {
      "text/html": [
       "<div>\n",
       "<style scoped>\n",
       "    .dataframe tbody tr th:only-of-type {\n",
       "        vertical-align: middle;\n",
       "    }\n",
       "\n",
       "    .dataframe tbody tr th {\n",
       "        vertical-align: top;\n",
       "    }\n",
       "\n",
       "    .dataframe thead th {\n",
       "        text-align: right;\n",
       "    }\n",
       "</style>\n",
       "<table border=\"1\" class=\"dataframe\">\n",
       "  <thead>\n",
       "    <tr style=\"text-align: right;\">\n",
       "      <th></th>\n",
       "      <th>Text</th>\n",
       "      <th>Category</th>\n",
       "    </tr>\n",
       "  </thead>\n",
       "  <tbody>\n",
       "    <tr>\n",
       "      <th>3776</th>\n",
       "      <td>\\n\\nI had this problem when I first loaded win...</td>\n",
       "      <td>comp.os.ms-windows.misc</td>\n",
       "    </tr>\n",
       "    <tr>\n",
       "      <th>15877</th>\n",
       "      <td>\\n\\nWhich listsev was this and is the discussi...</td>\n",
       "      <td>soc.religion.christian</td>\n",
       "    </tr>\n",
       "    <tr>\n",
       "      <th>14081</th>\n",
       "      <td># \\n# \\n# Is there an Xt call to give me my ap...</td>\n",
       "      <td>comp.windows.x</td>\n",
       "    </tr>\n",
       "    <tr>\n",
       "      <th>6746</th>\n",
       "      <td>\\nPlease, PAY ATTENTION.\\nI, and others, were ...</td>\n",
       "      <td>talk.politics.guns</td>\n",
       "    </tr>\n",
       "    <tr>\n",
       "      <th>17115</th>\n",
       "      <td>\\n]The \"corrupted over and over\" theory is pr...</td>\n",
       "      <td>alt.atheism</td>\n",
       "    </tr>\n",
       "  </tbody>\n",
       "</table>\n",
       "</div>"
      ],
      "text/plain": [
       "                                                    Text  \\\n",
       "3776   \\n\\nI had this problem when I first loaded win...   \n",
       "15877  \\n\\nWhich listsev was this and is the discussi...   \n",
       "14081  # \\n# \\n# Is there an Xt call to give me my ap...   \n",
       "6746   \\nPlease, PAY ATTENTION.\\nI, and others, were ...   \n",
       "17115   \\n]The \"corrupted over and over\" theory is pr...   \n",
       "\n",
       "                      Category  \n",
       "3776   comp.os.ms-windows.misc  \n",
       "15877   soc.religion.christian  \n",
       "14081           comp.windows.x  \n",
       "6746        talk.politics.guns  \n",
       "17115              alt.atheism  "
      ]
     },
     "execution_count": 2,
     "metadata": {},
     "output_type": "execute_result"
    }
   ],
   "source": [
    "df_sample.sample(5)"
   ]
  },
  {
   "cell_type": "code",
   "execution_count": 4,
   "metadata": {},
   "outputs": [
    {
     "name": "stdout",
     "output_type": "stream",
     "text": [
      "Word Count Statistics for 'Description':\n",
      "DF shape: (18846, 3)\n",
      "Lowest number of words: 0\n",
      "Highest number of words: 11765\n",
      "Median number of words: 83.0\n",
      "\n"
     ]
    }
   ],
   "source": [
    "data[\"Word Count\"] = data[\"Text\"].apply(lambda x: len(str(x).split()))\n",
    "\n",
    "# Calculate minimum, maximum, and median word counts\n",
    "min_words = data[\"Word Count\"].min()\n",
    "max_words = data[\"Word Count\"].max()\n",
    "median_words = data[\"Word Count\"].median()\n",
    "\n",
    "print(\"Word Count Statistics for 'Description':\")\n",
    "print(f\"DF shape: {data.shape}\")\n",
    "print(f\"Lowest number of words: {min_words}\")\n",
    "print(f\"Highest number of words: {max_words}\")\n",
    "print(f\"Median number of words: {median_words}\\n\")\n"
   ]
  },
  {
   "cell_type": "code",
   "execution_count": 6,
   "metadata": {},
   "outputs": [
    {
     "name": "stdout",
     "output_type": "stream",
     "text": [
      "10th Percentile (P10): 18.0\n",
      "90th Percentile (P90): 331.0\n",
      "\n",
      "Word Count Statistics for 'Description' (After Removing Lowest and Highest 10%):\n",
      "DF shape: (15021, 3)\n",
      "Lowest number of words: 19\n",
      "Highest number of words: 330\n",
      "Median number of words: 83.0\n",
      "\n"
     ]
    }
   ],
   "source": [
    "# Count the number of words in the 'Description' column\n",
    "data[\"Word Count\"] = data[\"Text\"].apply(lambda x: len(str(x).split()))\n",
    "\n",
    "# Calculate the 10th percentile and 90th percentile\n",
    "p10 = data[\"Word Count\"].quantile(0.10)\n",
    "p90 = data[\"Word Count\"].quantile(0.90)\n",
    "\n",
    "print(f\"10th Percentile (P10): {p10}\")\n",
    "print(f\"90th Percentile (P90): {p90}\\n\")\n",
    "\n",
    "# Filter the DataFrame to keep only rows between the 10th and 90th percentiles\n",
    "df_filtered = data[(data[\"Word Count\"] > p10) & (data[\"Word Count\"] < p90)]\n",
    "\n",
    "# Calculate statistics after filtering\n",
    "min_words = df_filtered[\"Word Count\"].min()\n",
    "max_words = df_filtered[\"Word Count\"].max()\n",
    "median_words = df_filtered[\"Word Count\"].median()\n",
    "\n",
    "print(\"Word Count Statistics for 'Description' (After Removing Lowest and Highest 10%):\")\n",
    "print(f\"DF shape: {df_filtered.shape}\")\n",
    "print(f\"Lowest number of words: {min_words}\")\n",
    "print(f\"Highest number of words: {max_words}\")\n",
    "print(f\"Median number of words: {median_words}\\n\")\n"
   ]
  }
 ],
 "metadata": {
  "kernelspec": {
   "display_name": "py312_topic_modeling",
   "language": "python",
   "name": "python3"
  },
  "language_info": {
   "codemirror_mode": {
    "name": "ipython",
    "version": 3
   },
   "file_extension": ".py",
   "mimetype": "text/x-python",
   "name": "python",
   "nbconvert_exporter": "python",
   "pygments_lexer": "ipython3",
   "version": "3.12.8"
  }
 },
 "nbformat": 4,
 "nbformat_minor": 2
}
