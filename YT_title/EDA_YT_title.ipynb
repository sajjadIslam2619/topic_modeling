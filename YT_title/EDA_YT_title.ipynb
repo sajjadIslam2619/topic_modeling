{
 "cells": [
  {
   "cell_type": "code",
   "execution_count": 1,
   "metadata": {},
   "outputs": [
    {
     "name": "stderr",
     "output_type": "stream",
     "text": [
      "[nltk_data] Downloading package punkt to\n",
      "[nltk_data]     /Users/sajjadislam/nltk_data...\n",
      "[nltk_data]   Package punkt is already up-to-date!\n",
      "[nltk_data] Downloading package stopwords to\n",
      "[nltk_data]     /Users/sajjadislam/nltk_data...\n",
      "[nltk_data]   Package stopwords is already up-to-date!\n"
     ]
    },
    {
     "data": {
      "text/plain": [
       "True"
      ]
     },
     "execution_count": 1,
     "metadata": {},
     "output_type": "execute_result"
    }
   ],
   "source": [
    "import pandas as pd\n",
    "from nltk.corpus import stopwords\n",
    "from nltk.tokenize import word_tokenize\n",
    "import nltk\n",
    "\n",
    "# Download NLTK data (run this once)\n",
    "nltk.download('punkt')\n",
    "nltk.download('stopwords')"
   ]
  },
  {
   "cell_type": "code",
   "execution_count": 3,
   "metadata": {},
   "outputs": [],
   "source": [
    "df = pd.read_csv('../Data/YT_title_test_data.csv')\n",
    "df.sample(5)\n",
    "# Take a random sample of 500 rows\n",
    "df_sample = df.sample(n=500, random_state=42)  # random_state ensures reproducibility\n",
    "\n",
    "# Save the sample to a new CSV file in the same directory\n",
    "df_sample.to_csv('../Data/YT_title_sample_500.csv', index=False)"
   ]
  },
  {
   "cell_type": "code",
   "execution_count": 4,
   "metadata": {},
   "outputs": [
    {
     "data": {
      "text/plain": [
       "(10000, 2)"
      ]
     },
     "execution_count": 4,
     "metadata": {},
     "output_type": "execute_result"
    }
   ],
   "source": [
    "df.dropna(subset=['title'], inplace=True)\n",
    "df.shape"
   ]
  },
  {
   "cell_type": "code",
   "execution_count": 6,
   "metadata": {},
   "outputs": [
    {
     "name": "stdout",
     "output_type": "stream",
     "text": [
      "Word Count Statistics (Before Removing Stop Words):\n",
      "Lowest number of words: 3\n",
      "Highest number of words: 27\n",
      "Median number of words: 9.0\n",
      "\n",
      "Word Count Statistics (After Removing Stop Words):\n",
      "Lowest number of words: 1\n",
      "Highest number of words: 18\n",
      "Median number of words: 7.0\n"
     ]
    }
   ],
   "source": [
    "# Define stop words\n",
    "stop_words = set(stopwords.words('english'))\n",
    "\n",
    "# Function to count words\n",
    "def count_words(text):\n",
    "    words = word_tokenize(text)\n",
    "    return len(words)\n",
    "\n",
    "# Function to remove stop words and count words\n",
    "def count_words_without_stopwords(text):\n",
    "    words = word_tokenize(text)\n",
    "    filtered_words = [word for word in words if word.lower() not in stop_words]\n",
    "    return len(filtered_words)\n",
    "\n",
    "# Apply the functions\n",
    "df['Word Count'] = df['title'].apply(count_words)\n",
    "df['Filtered Word Count'] = df['title'].apply(count_words_without_stopwords)\n",
    "\n",
    "# Calculate statistics\n",
    "min_words = df['Word Count'].min()\n",
    "max_words = df['Word Count'].max()\n",
    "median_words = df['Word Count'].median()\n",
    "\n",
    "min_filtered = df['Filtered Word Count'].min()\n",
    "max_filtered = df['Filtered Word Count'].max()\n",
    "median_filtered = df['Filtered Word Count'].median()\n",
    "\n",
    "# Display results\n",
    "print(\"Word Count Statistics (Before Removing Stop Words):\")\n",
    "print(f\"Lowest number of words: {min_words}\")\n",
    "print(f\"Highest number of words: {max_words}\")\n",
    "print(f\"Median number of words: {median_words}\\n\")\n",
    "\n",
    "print(\"Word Count Statistics (After Removing Stop Words):\")\n",
    "print(f\"Lowest number of words: {min_filtered}\")\n",
    "print(f\"Highest number of words: {max_filtered}\")\n",
    "print(f\"Median number of words: {median_filtered}\")\n"
   ]
  }
 ],
 "metadata": {
  "kernelspec": {
   "display_name": "py312_topic_modeling",
   "language": "python",
   "name": "python3"
  },
  "language_info": {
   "codemirror_mode": {
    "name": "ipython",
    "version": 3
   },
   "file_extension": ".py",
   "mimetype": "text/x-python",
   "name": "python",
   "nbconvert_exporter": "python",
   "pygments_lexer": "ipython3",
   "version": "3.12.8"
  }
 },
 "nbformat": 4,
 "nbformat_minor": 2
}
